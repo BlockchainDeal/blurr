{
 "cells": [
  {
   "cell_type": "code",
   "execution_count": null,
   "metadata": {},
   "outputs": [],
   "source": [
    "import sys\n",
    "# installs blurr in the Python Kernel\n",
    "!{sys.executable} -m pip uninstall blurr --quiet\n",
    "!{sys.executable} -m pip install blurr --quiet\n",
    "!{sys.executable} -m pip --version"
   ]
  },
  {
   "cell_type": "code",
   "execution_count": null,
   "metadata": {},
   "outputs": [],
   "source": [
    "from blurr.cli.validate import validate_command\n",
    "from blurr.cli.out import Out\n",
    "from blurr.cli.transform import transform as transform_command\n",
    "\n",
    "def validate(template):\n",
    "    validate_command([template], Out())\n",
    "    \n",
    "def transform(events, streaming_dtc, window_dtc=None):\n",
    "    transform_command(streaming_dtc, window_dtc, [events], Out())\n",
    "    "
   ]
  },
  {
   "cell_type": "code",
   "execution_count": null,
   "metadata": {},
   "outputs": [],
   "source": [
    "validate('streaming-dtc.yml')"
   ]
  },
  {
   "cell_type": "code",
   "execution_count": null,
   "metadata": {},
   "outputs": [],
   "source": [
    "validate('window-dtc.yml')"
   ]
  },
  {
   "cell_type": "code",
   "execution_count": null,
   "metadata": {},
   "outputs": [],
   "source": [
    "transform('streaming-events.log','streaming-dtc.yml')"
   ]
  },
  {
   "cell_type": "code",
   "execution_count": null,
   "metadata": {},
   "outputs": [],
   "source": [
    "transform('window-events.log','streaming-dtc.yml')"
   ]
  },
  {
   "cell_type": "code",
   "execution_count": null,
   "metadata": {},
   "outputs": [],
   "source": [
    "transform('window-events.log','streaming-dtc.yml', 'window-dtc.yml')"
   ]
  }
 ],
 "metadata": {
  "kernelspec": {
   "display_name": "Python 3",
   "language": "python",
   "name": "python3"
  },
  "language_info": {
   "codemirror_mode": {
    "name": "ipython",
    "version": 3
   },
   "file_extension": ".py",
   "mimetype": "text/x-python",
   "name": "python",
   "nbconvert_exporter": "python",
   "pygments_lexer": "ipython3",
   "version": "3.6.3"
  }
 },
 "nbformat": 4,
 "nbformat_minor": 2
}
